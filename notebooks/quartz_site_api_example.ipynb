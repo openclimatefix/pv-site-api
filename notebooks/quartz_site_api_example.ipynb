{
 "cells": [
  {
   "cell_type": "markdown",
   "metadata": {},
   "source": [
    "# Example Use for Quartz Solar Site Forecasts"
   ]
  },
  {
   "cell_type": "markdown",
   "metadata": {},
   "source": [
    "* Site Documentation: https://api-site.quartz.solar/swagger\n",
    "* Additional Site Documentation: https://api-site.quartz.solar/docs\n",
    "* API Access: https://openclimatefix.notion.site/API-Access-2d8d2f64215d4432be830cbcc9220012"
   ]
  },
  {
   "cell_type": "markdown",
   "metadata": {},
   "source": [
    "## Getting Your Access Token"
   ]
  },
  {
   "cell_type": "code",
   "execution_count": null,
   "metadata": {},
   "outputs": [],
   "source": [
    "import requests\n",
    "import json\n",
    "import pprint\n",
    "\n",
    "client_id = \"QLMdXCCHMS9Zl5W2tDG3otpdcY7GeEnJ\"\n",
    "username=\"username\" # Change to be Your username\n",
    "pwd = \"pwd\" # Change to be Your password\n",
    "domain = \"nowcasting-pro.eu.auth0.com\"\n",
    "grant_type=\"password\"\n",
    "\n",
    "url = f\"https://{domain}/oauth/token\"\n",
    "header = {'content-type': 'application/json'}\n",
    "data = json.dumps({\"client_id\":client_id,\"username\":username,\"password\":pwd,\"grant_type\":grant_type,\"audience\":\"https://api.nowcasting.io/\"})\n",
    "\n",
    "r = requests.post(url, data=data, headers=header)\n",
    "try:\n",
    "    access_token = r.json()['access_token']\n",
    "except KeyError:\n",
    "    access_token = None\n",
    "    print(\"Failed to retrieve access token.\")\n",
    "\n",
    "print(\"Response status code:\", r.status_code)\n",
    "print(\"Response headers:\", r.headers)\n",
    "print(\"Response content:\", r.content)"
   ]
  },
  {
   "cell_type": "markdown",
   "metadata": {},
   "source": [
    "### Or load access token from .env file"
   ]
  },
  {
   "cell_type": "code",
   "execution_count": null,
   "metadata": {},
   "outputs": [],
   "source": [
    "import os\n",
    "from dotenv import load_dotenv\n",
    "\n",
    "load_dotenv()\n",
    "access_token = os.getenv('ACCESS_TOKEN')"
   ]
  },
  {
   "cell_type": "code",
   "execution_count": null,
   "metadata": {},
   "outputs": [],
   "source": [
    "# Set the URL to the API\n",
    "base_url = \"https://api-site.quartz.solar\""
   ]
  },
  {
   "cell_type": "markdown",
   "metadata": {},
   "source": [
    "## Get Sites currently in the system under the user"
   ]
  },
  {
   "cell_type": "code",
   "execution_count": null,
   "metadata": {},
   "outputs": [],
   "source": [
    "# If you have not sites the response will be an empty list\n",
    "r = requests.get(url=(base_url + '/sites'), headers={\"Authorization\": \"Bearer \" + access_token})\n",
    "\n",
    "data = r.json()\n",
    "pprint.pprint(data)"
   ]
  },
  {
   "cell_type": "code",
   "execution_count": null,
   "metadata": {},
   "outputs": [],
   "source": [
    "# Print all of the site uuids in the system\n",
    "site_uuids = [site['site_uuid'] for site in data['site_list']]\n",
    "print(site_uuids)"
   ]
  },
  {
   "cell_type": "markdown",
   "metadata": {},
   "source": [
    "## Add a new site to the system"
   ]
  },
  {
   "cell_type": "code",
   "execution_count": null,
   "metadata": {},
   "outputs": [],
   "source": [
    "headers = {\n",
    "    \"Authorization\": \"Bearer \" + access_token,\n",
    "    \"Content-Type\": \"application/json\"\n",
    "}\n",
    "\n",
    "new_site_data = {\n",
    "  \"client_site_id\": 1,\n",
    "  \"client_site_name\": \"test_site_1\",\n",
    "  \"orientation\": 15,\n",
    "  \"tilt\": 35,\n",
    "  \"latitude\": 53.68,\n",
    "  \"longitude\": -2.00,\n",
    "  \"inverter_capacity_kw\": 4,\n",
    "  \"module_capacity_kw\": 4\n",
    "}\n",
    "\n",
    "response = requests.post(base_url + \"/sites\", headers=headers, json=new_site_data)\n",
    "if response.status_code == 201:\n",
    "    print(\"Site added successfully:\")\n",
    "    pprint.pprint(response.json())\n",
    "else:\n",
    "    print(\"Failed to add site. Status code:\", response.status_code, \"Response:\", response.json())"
   ]
  },
  {
   "cell_type": "markdown",
   "metadata": {},
   "source": [
    "## Get the forecast from the a site"
   ]
  },
  {
   "cell_type": "code",
   "execution_count": null,
   "metadata": {},
   "outputs": [],
   "source": [
    "# site_uuid = site_uuids[1]\n",
    "site_uuid = 'INSERT_SITE_UUID'\n",
    "\n",
    "r = requests.get(url=(base_url + f'/sites/{site_uuid}/pv_forecast'), headers={\"Authorization\": \"Bearer \" + access_token})\n",
    "data = r.json()\n",
    "pprint.pprint(data)"
   ]
  },
  {
   "cell_type": "code",
   "execution_count": null,
   "metadata": {},
   "outputs": [],
   "source": [
    "import plotly.graph_objects as go\n",
    "\n",
    "# Extracting the relevant data for plotting\n",
    "target_datetime_utc = [forecast['target_datetime_utc'] for forecast in data['forecast_values']]\n",
    "expected_generation_kw = [forecast['expected_generation_kw'] for forecast in data['forecast_values']]\n",
    "\n",
    "# Plotting the data using Plotly\n",
    "fig = go.Figure(data=go.Scatter(x=target_datetime_utc, y=expected_generation_kw, mode='lines+markers'))\n",
    "fig.update_layout(\n",
    "    title='Expected Generation (kW) Over Time',\n",
    "    xaxis_title='Target Datetime UTC',\n",
    "    yaxis_title='Expected Generation (kW)',\n",
    "    xaxis=dict(tickangle=45),\n",
    "    template='plotly_white'\n",
    ")\n",
    "fig.show()\n"
   ]
  },
  {
   "cell_type": "markdown",
   "metadata": {},
   "source": [
    "## Example POST live PV data to the system to be used for forecasting"
   ]
  },
  {
   "cell_type": "code",
   "execution_count": null,
   "metadata": {},
   "outputs": [],
   "source": [
    "import datetime\n",
    "site_uuid = 'INSERT_SITE_UUID'\n",
    "headers = {\n",
    "    \"Authorization\": \"Bearer \" + access_token,\n",
    "    \"Content-Type\": \"application/json\"\n",
    "}\n",
    "\n",
    "live_pv_data = {\n",
    "    \"site_uuid\": site_uuid,\n",
    "    \"pv_actual_values\": [\n",
    "        {\n",
    "            \"datetime_utc\": datetime.datetime.utcnow().isoformat() + \"Z\",\n",
    "            \"actual_generation_kw\": 0.05,\n",
    "        }\n",
    "    ]\n",
    "}\n",
    "\n",
    "# Correcting the URL string formatting for the POST request\n",
    "response = requests.post(base_url + f\"/sites/{site_uuid}/pv_actual\", headers=headers, json=live_pv_data)\n",
    "if response.status_code == 200:\n",
    "    print(\"Data posted successfully:\", response.json())\n",
    "else:\n",
    "    print(\"Failed to post data. Status code:\", response.status_code, \"Response:\", response.json())"
   ]
  }
 ],
 "metadata": {
  "kernelspec": {
   "display_name": "OCF",
   "language": "python",
   "name": "python3"
  },
  "language_info": {
   "codemirror_mode": {
    "name": "ipython",
    "version": 3
   },
   "file_extension": ".py",
   "mimetype": "text/x-python",
   "name": "python",
   "nbconvert_exporter": "python",
   "pygments_lexer": "ipython3",
   "version": "3.10.9"
  }
 },
 "nbformat": 4,
 "nbformat_minor": 2
}
