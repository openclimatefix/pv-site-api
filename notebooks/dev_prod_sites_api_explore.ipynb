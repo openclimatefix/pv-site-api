{
 "cells": [
  {
   "cell_type": "markdown",
   "metadata": {},
   "source": [
    "# Explore the functions of the Quartz Solar Site API using Dev and Prod API"
   ]
  },
  {
   "cell_type": "code",
   "execution_count": null,
   "metadata": {},
   "outputs": [],
   "source": [
    "# For loading credentials from .env file\n",
    "import os\n",
    "from dotenv import load_dotenv\n",
    "\n",
    "# For data manipulation\n",
    "import pandas as pd\n",
    "\n",
    "# For API requests\n",
    "import requests\n",
    "import json\n",
    "\n",
    "# For plotting\n",
    "import plotly.express as px"
   ]
  },
  {
   "cell_type": "code",
   "execution_count": 1,
   "metadata": {},
   "outputs": [],
   "source": [
    "environment = \"prod\"  # \"dev\" or \"prod\""
   ]
  },
  {
   "cell_type": "markdown",
   "metadata": {},
   "source": [
    "The access token can be inputed in two way:\n",
    "1. Load the access token in from a .env file where the token is saved as a string variable valled \"ACCESS_TOKEN\"\n",
    "    In this .env file have two access tokens called \"PROD_ACCESS_TOKEN\" and \"DEV_ACCESS_TOKEN\"\n",
    "2. Making a request to the API using login crededntials to recieve the access token"
   ]
  },
  {
   "cell_type": "code",
   "execution_count": null,
   "metadata": {},
   "outputs": [],
   "source": [
    "# A function to specify the environment and load the correct urls and credentials\n",
    "def set_environment_variables(environment):\n",
    "    load_dotenv()  # Ensure environment variables are loaded\n",
    "    if environment == \"prod\":\n",
    "        base_url = \"https://api-site.quartz.solar\"\n",
    "        domain = \"nowcasting-pro.eu.auth0.com\"\n",
    "        access_token = os.getenv('PROD_ACCESS_TOKEN')\n",
    "        if access_token is None:\n",
    "            raise ValueError(\"PROD_ACCESS_TOKEN not found in environment variables\")\n",
    "    elif environment == \"dev\":\n",
    "        base_url = \"http://uk-development-sites-api.eu-west-1.elasticbeanstalk.com\"\n",
    "        domain = \"nowcasting-dev.eu.auth0.com\"\n",
    "        access_token = os.getenv('DEV_ACCESS_TOKEN')\n",
    "        if access_token is None:\n",
    "            raise ValueError(\"DEV_ACCESS_TOKEN not found in environment variables\")\n",
    "    else:\n",
    "        raise ValueError(\"Invalid environment specified\")\n",
    "    return base_url, domain, access_token\n",
    "\n",
    "base_url, domain, access_token = set_environment_variables(environment)"
   ]
  },
  {
   "cell_type": "code",
   "execution_count": null,
   "metadata": {},
   "outputs": [],
   "source": [
    "# 2. Get access token from the API\n",
    "username= \"email\" \n",
    "pwd = \"password\"\n",
    "\n",
    "client_id = \"QLMdXCCHMS9Zl5W2tDG3otpdcY7GeEnJ\"\n",
    "grant_type=\"password\"\n",
    "\n",
    "# Get access token\n",
    "url = f\"https://{domain}/oauth/token\"\n",
    "header = {'content-type': 'application/json'}\n",
    "data = json.dumps({\"client_id\":client_id,\"username\":username,\"password\":pwd,\"grant_type\":grant_type,\"audience\":\"https://api.nowcasting.io/\"})\n",
    "r = requests.post(url, data=data, headers=header)\n",
    "\n",
    "# This notebook is setup to use method 1. If you want to use method 2, you can uncomment the line below\n",
    "# access_token = r.json()['access_token']"
   ]
  },
  {
   "cell_type": "code",
   "execution_count": null,
   "metadata": {},
   "outputs": [],
   "source": [
    "# Lets get the information about the sites available to us via the API using the access token\n",
    "# and create a list of site UUIDs which we can use to pull the forecasts\n",
    "url = base_url + \"/sites\"\n",
    "\n",
    "print(url)\n",
    "\n",
    "# Make the GET request to the API using the access token for authorization\n",
    "r = requests.get(url=url, headers={\"Authorization\": \"Bearer \" + access_token})\n",
    "\n",
    "# Check if the request was successful\n",
    "if r.status_code == 200:\n",
    "    data = r.json()\n",
    "    sites_list = data['site_list']\n",
    "    sites_info_df = pd.DataFrame(sites_list)\n",
    "    print(\"Site data retrieved successfully:\")\n",
    "\n",
    "    # Create a sites list which we can use to pull the forecasts\n",
    "    site_uuid_list = sites_info_df['site_uuid'].tolist()\n",
    "else:\n",
    "    print(f\"Failed to retrieve site data. Status code: {r.status_code}\")\n",
    "    print(\"Response:\", r.text)\n",
    "\n",
    "sites_info_df"
   ]
  },
  {
   "cell_type": "code",
   "execution_count": null,
   "metadata": {},
   "outputs": [],
   "source": [
    "# Check if the specific site_uuid exists in the site_uuid_list\n",
    "site_uuid_to_check = \"input_site_uuid_to_check\"\n",
    "if site_uuid_to_check in site_uuid_list:\n",
    "    print(f\"Site UUID {site_uuid_to_check} exists in the list.\")\n",
    "else:\n",
    "    print(f\"Site UUID {site_uuid_to_check} does not exist in the list.\")"
   ]
  },
  {
   "cell_type": "code",
   "execution_count": null,
   "metadata": {},
   "outputs": [],
   "source": [
    "# Lets get the forecast for a specific site using the site_uuid_list we created earlier\n",
    "# or by inputing the string of the site_uuid directly\n",
    "site_uuid  = site_uuid_list[1]\n",
    "# site_uuid = \"\" # or input the site_uuid directly\n",
    "\n",
    "print(f\"Generating forecasts for site: {site_uuid}\")\n",
    "\n",
    "url = f\"{base_url}/sites/{site_uuid}/pv_forecast\"\n",
    "r = requests.get(url=url, headers={\"Authorization\": \"Bearer \" + access_token})\n",
    "    \n",
    "if r.status_code == 200: # Check if the request was successful\n",
    "    data = r.json()\n",
    "    forecast_values = data['forecast_values']\n",
    "    forecast_values_df = pd.DataFrame(forecast_values)\n",
    "    forecast_creation_time = data['forecast_creation_datetime']\n",
    "    print(\"PV forecast data for all sites retrieved successfully:\")\n",
    "else:\n",
    "    print(f\"Failed to retrieve PV forecast data for site {site_uuid}. Status code: {r.status_code}\")\n",
    "    print(\"Response:\", r.text)\n",
    "\n",
    "# Display the forecast creation time\n",
    "print(f\"Forecast creation time: {forecast_creation_time}\")\n",
    "print(\"Forecast Values: \")\n",
    "print(forecast_values_df)\n",
    "\n",
    "# Plotting the forecast values with site UUID in the title\n",
    "title_with_uuid = f'PV Forecast Generation for Site {site_uuid}, forecast created at {forecast_creation_time} UTC'\n",
    "fig = px.line(forecast_values_df, x='target_datetime_utc', y='expected_generation_kw', title=title_with_uuid)\n",
    "fig.update_xaxes(title_text='Date and Time')\n",
    "fig.update_yaxes(title_text='Expected Generation (kW)')\n",
    "fig.show()"
   ]
  },
  {
   "cell_type": "code",
   "execution_count": null,
   "metadata": {},
   "outputs": [],
   "source": [
    "def get_generation_data(site_uuid_list, access_token):\n",
    "    all_forecast_data = []\n",
    "    for site_uuid in site_uuid_list:\n",
    "        url = f\"{base_url}/sites/{site_uuid}/pv_forecast\"\n",
    "        r = requests.get(url=url, headers={\"Authorization\": \"Bearer \" + access_token})\n",
    "        \n",
    "        if r.status_code == 200:\n",
    "            data = r.json()\n",
    "            forecast_values = data['forecast_values']\n",
    "            for forecast in forecast_values:\n",
    "                forecast['site_uuid'] = site_uuid  # Add site_uuid to each forecast entry\n",
    "            all_forecast_data.extend(forecast_values)\n",
    "        else:\n",
    "            print(f\"Failed to retrieve PV forecast data for site {site_uuid}. Status code: {r.status_code}\")\n",
    "            print(\"Response:\", r.text)\n",
    "    df = pd.DataFrame(all_forecast_data)\n",
    "    return df\n",
    "\n",
    "# Get the first 20 sites from the list to pull forecasts for\n",
    "site_uuid_list = sites_info_df['site_uuid'].tolist()[:20]\n",
    "df_generation = get_generation_data(site_uuid_list, access_token)\n",
    "print(\"PV forecast data for all sites retrieved successfully:\")\n",
    "\n",
    "df_generation"
   ]
  },
  {
   "cell_type": "code",
   "execution_count": null,
   "metadata": {},
   "outputs": [],
   "source": [
    "# Creating a line chart for each site's generation data\n",
    "fig = px.line(df_generation, x='target_datetime_utc', y='expected_generation_kw', color='site_uuid', \n",
    "              title=f'PV Forecast Generation for first 20 Sites, forecast created at {forecast_creation_time} UTC', labels='site_uuid')\n",
    "\n",
    "# Updating axis titles\n",
    "fig.update_xaxes(title_text='Date and Time')\n",
    "fig.update_yaxes(title_text='Expected Generation (kW)')\n",
    "\n",
    "# Updating legend font size to make it smaller\n",
    "fig.update_layout(legend=dict(font=dict(size=7)))\n",
    "\n",
    "# Showing the figure\n",
    "fig.show()"
   ]
  }
 ],
 "metadata": {
  "kernelspec": {
   "display_name": "OCF",
   "language": "python",
   "name": "python3"
  },
  "language_info": {
   "codemirror_mode": {
    "name": "ipython",
    "version": 3
   },
   "file_extension": ".py",
   "mimetype": "text/x-python",
   "name": "python",
   "nbconvert_exporter": "python",
   "pygments_lexer": "ipython3",
   "version": "3.10.9"
  }
 },
 "nbformat": 4,
 "nbformat_minor": 2
}